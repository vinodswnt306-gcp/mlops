{
 "cells": [
  {
   "cell_type": "markdown",
   "id": "2b8f5e52",
   "metadata": {},
   "source": [
    "# Architecture"
   ]
  },
  {
   "cell_type": "code",
   "execution_count": null,
   "id": "bf983795",
   "metadata": {},
   "outputs": [],
   "source": []
  },
  {
   "cell_type": "markdown",
   "id": "776e0ed1",
   "metadata": {},
   "source": [
    "# Folder Structure"
   ]
  },
  {
   "cell_type": "code",
   "execution_count": null,
   "id": "e10309b6",
   "metadata": {},
   "outputs": [],
   "source": [
    "+---docker\n",
    "|       Dockerfile\n",
    "|       pipeline_base_image_builder.sh\n",
    "|       secrets.json\n",
    "|\n",
    "+---img\n",
    "|       screenshots.png\n",
    "|\n",
    "+---train_pipeline\n",
    "|       pipeline_components.py\n",
    "|       pipeline_publisher.py\n",
    "|       pipeline_run.py\n",
    "|       cloudbuild.yaml\n",
    "|\n",
    "+---deployment\n",
    "|       score.py\n",
    "|       GKE_config.yaml\n",
    "|       cloudbuild.yaml\n",
    "|\n",
    "+---tests\n",
    "|       test_1_FE.py\n",
    "|       test_2_impute_class.py\n",
    "|       test_3_score.py\n",
    "|\n",
    "+---utils\n",
    "|       FE.py\n",
    "|       impute_class.py\n",
    "|\n",
    "|---architecture.pptx\n",
    "|---main.ipynb\n",
    "|---requirements.txt"
   ]
  },
  {
   "cell_type": "code",
   "execution_count": null,
   "id": "fe316dbe",
   "metadata": {},
   "outputs": [],
   "source": []
  },
  {
   "cell_type": "code",
   "execution_count": null,
   "id": "5cdb5ca4",
   "metadata": {},
   "outputs": [],
   "source": []
  },
  {
   "cell_type": "code",
   "execution_count": null,
   "id": "1bbcaf7b",
   "metadata": {},
   "outputs": [],
   "source": []
  },
  {
   "cell_type": "code",
   "execution_count": null,
   "id": "a6e3a8f5",
   "metadata": {},
   "outputs": [],
   "source": []
  },
  {
   "cell_type": "code",
   "execution_count": null,
   "id": "5ec4f467",
   "metadata": {},
   "outputs": [],
   "source": []
  }
 ],
 "metadata": {
  "kernelspec": {
   "display_name": "Python 3",
   "language": "python",
   "name": "python3"
  },
  "language_info": {
   "codemirror_mode": {
    "name": "ipython",
    "version": 3
   },
   "file_extension": ".py",
   "mimetype": "text/x-python",
   "name": "python",
   "nbconvert_exporter": "python",
   "pygments_lexer": "ipython3",
   "version": "3.7.7"
  }
 },
 "nbformat": 4,
 "nbformat_minor": 5
}
